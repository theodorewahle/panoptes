{
 "cells": [
  {
   "cell_type": "markdown",
   "id": "phantom-vietnamese",
   "metadata": {},
   "source": [
    "# Motion Detection Test\n",
    "\n",
    "This is an implementation of the OpenCv tutorial found [here](https://docs.opencv.org/master/d1/dc5/tutorial_background_subtraction.html) on background subtraction."
   ]
  },
  {
   "cell_type": "code",
   "execution_count": 2,
   "id": "dirty-quebec",
   "metadata": {},
   "outputs": [],
   "source": [
    "import cv2 as cv\n",
    "\n",
    "# using test video file\n",
    "test_video = cv.VideoCapture('car-misses-exit.mp4')\n",
    "\n",
    "# using Gaussian mixture background subtraction\n",
    "background_subtraction = cv.createBackgroundSubtractorMOG2()\n",
    "\n",
    "while True:\n",
    "    \n",
    "    # get the current frame\n",
    "    ret, frame = test_video.read()\n",
    "    \n",
    "    # end of video\n",
    "    if frame is None:\n",
    "        break\n",
    "    \n",
    "    # get foreground mask\n",
    "    foreground_mask = background_subtraction.apply(frame)\n",
    "    \n",
    "    # display frame number in top left\n",
    "    cv.rectangle(frame, (10, 2), (100,20), (255,255,255), -1)\n",
    "    cv.putText(frame, str(test_video.get(cv.CAP_PROP_POS_FRAMES)), (15, 15),\n",
    "               cv.FONT_HERSHEY_SIMPLEX, 0.5 , (0,0,0))\n",
    "    \n",
    "    # display both frame and foreground mask\n",
    "    cv.imshow('Frame', frame)\n",
    "    cv.imshow('Foreground Mask', foreground_mask)\n",
    "    \n",
    "    # if escape key is pressed, exit\n",
    "    keyboard = cv.waitKey(30)\n",
    "    if keyboard == 27:\n",
    "        cv.destroyAllWindows()\n",
    "        break"
   ]
  },
  {
   "cell_type": "code",
   "execution_count": null,
   "id": "solid-preserve",
   "metadata": {},
   "outputs": [],
   "source": []
  }
 ],
 "metadata": {
  "kernelspec": {
   "display_name": "Python 3",
   "language": "python",
   "name": "python3"
  },
  "language_info": {
   "codemirror_mode": {
    "name": "ipython",
    "version": 3
   },
   "file_extension": ".py",
   "mimetype": "text/x-python",
   "name": "python",
   "nbconvert_exporter": "python",
   "pygments_lexer": "ipython3",
   "version": "3.8.5"
  }
 },
 "nbformat": 4,
 "nbformat_minor": 5
}
