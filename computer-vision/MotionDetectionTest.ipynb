{
 "cells": [
  {
   "cell_type": "markdown",
   "id": "phantom-vietnamese",
   "metadata": {},
   "source": [
    "# Motion Detection Test\n",
    "\n",
    "This is an implementation of the OpenCv tutorial found [here](https://docs.opencv.org/master/d1/dc5/tutorial_background_subtraction.html) on background subtraction.\n",
    "\n",
    "Run to see results, hit escape to exit."
   ]
  },
  {
   "cell_type": "code",
   "execution_count": 1,
   "id": "dirty-quebec",
   "metadata": {},
   "outputs": [],
   "source": [
    "import cv2 as cv\n",
    "\n",
    "ESCAPE_KEY = 27\n",
    "KNN_DISTANCE_THRESHOLD = 1200\n",
    "MINIMUM_BOUNDING_BOX_SIZE = 25\n",
    "\n",
    "# using test video file\n",
    "test_video = cv.VideoCapture('car-misses-exit.mp4')\n",
    "\n",
    "# using Gaussian mixture background subtraction\n",
    "background_subtraction = cv.createBackgroundSubtractorKNN(dist2Threshold=KNN_DISTANCE_THRESHOLD)\n",
    "\n",
    "while True:\n",
    "    \n",
    "    # get the current frame\n",
    "    ret, frame = test_video.read()\n",
    "    \n",
    "    # end of video\n",
    "    if frame is None:\n",
    "        break\n",
    "    \n",
    "    # get foreground mask\n",
    "    foreground_mask = background_subtraction.apply(frame)\n",
    "    \n",
    "    # find contours and draw them\n",
    "    contours, hierarchy = cv.findContours(foreground_mask, cv.RETR_TREE, cv.CHAIN_APPROX_SIMPLE)\n",
    "    cv.drawContours(foreground_mask, contours, -1, (0,255,0), 3)\n",
    "    \n",
    "    # disregard children contours\n",
    "    try: \n",
    "        hierarchy = hierarchy[0]\n",
    "    except: \n",
    "        hierarchy = []\n",
    "\n",
    "    # get dimensions for contour boxes\n",
    "    height, width = foreground_mask.shape\n",
    "    min_x, min_y = width, height\n",
    "    max_x = max_y = 0\n",
    "\n",
    "    # computes the bounding box for the contour\n",
    "    for contour, hier in zip(contours, hierarchy):\n",
    "        (x,y,w,h) = cv.boundingRect(contour)\n",
    "        min_x, max_x = min(x, min_x), max(x+w, max_x)\n",
    "        min_y, max_y = min(y, min_y), max(y+h, max_y)\n",
    "        \n",
    "        # draw the contour bounding box on the frame\n",
    "        if w > MINIMUM_BOUNDING_BOX_SIZE and h > MINIMUM_BOUNDING_BOX_SIZE:\n",
    "            cv.rectangle(frame, (x,y), (x+w,y+h), (255, 0, 0), 2)\n",
    "        \n",
    "    # display frame number in top left\n",
    "    cv.rectangle(frame, (10, 2), (100,20), (255,255,255), -1)\n",
    "    cv.putText(frame, str(test_video.get(cv.CAP_PROP_POS_FRAMES)), (15, 15),\n",
    "               cv.FONT_HERSHEY_SIMPLEX, 0.5 , (0,0,0))\n",
    "    \n",
    "    # display both frame and foreground mask\n",
    "    cv.imshow('Frame', frame)\n",
    "    cv.imshow('Foreground Mask', foreground_mask)\n",
    "    \n",
    "    # if escape key is pressed, exit\n",
    "    keyboard = cv.waitKey(30)\n",
    "    if keyboard == ESCAPE_KEY:\n",
    "        cv.destroyAllWindows()\n",
    "        break\n",
    "        \n",
    "cv.destroyAllWindows()"
   ]
  },
  {
   "cell_type": "code",
   "execution_count": null,
   "id": "solid-preserve",
   "metadata": {},
   "outputs": [],
   "source": []
  }
 ],
 "metadata": {
  "kernelspec": {
   "display_name": "Python 3",
   "language": "python",
   "name": "python3"
  },
  "language_info": {
   "codemirror_mode": {
    "name": "ipython",
    "version": 3
   },
   "file_extension": ".py",
   "mimetype": "text/x-python",
   "name": "python",
   "nbconvert_exporter": "python",
   "pygments_lexer": "ipython3",
   "version": "3.8.5"
  }
 },
 "nbformat": 4,
 "nbformat_minor": 5
}
