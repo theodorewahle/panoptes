{
 "cells": [
  {
   "cell_type": "markdown",
   "id": "excessive-walker",
   "metadata": {},
   "source": [
    "# People Detection Test\n",
    "\n",
    "This is a test of OpenCV's histogram of orientated gradients (HOG) descriptor class and its built-in people detector model. It is made to work well only on people that are fully shown in frame, as evidenced by the test video.\n",
    "\n",
    "Run to see results, hit escape to exit."
   ]
  },
  {
   "cell_type": "code",
   "execution_count": 1,
   "id": "minus-shoot",
   "metadata": {},
   "outputs": [],
   "source": [
    "import cv2 as cv\n",
    "import numpy as np\n",
    "\n",
    "ESCAPE_KEY = 27\n",
    "\n",
    "# using test video file\n",
    "test_video = cv.VideoCapture('kramer_walking.mp4')\n",
    "\n",
    "# initialize the HOG descriptor\n",
    "hog = cv.HOGDescriptor()\n",
    "\n",
    "# use prebuilt person detector\n",
    "hog.setSVMDetector(cv.HOGDescriptor_getDefaultPeopleDetector())\n",
    "\n",
    "while(True):\n",
    "    \n",
    "    # get the current frame\n",
    "    ret, frame = test_video.read()\n",
    "    \n",
    "    # end of video\n",
    "    if frame is None:\n",
    "        break\n",
    "\n",
    "    # convert to grayscale\n",
    "    gray = cv.cvtColor(frame, cv.COLOR_RGB2GRAY)\n",
    "\n",
    "    # detect people in the image\n",
    "    # returns the bounding boxes for the detected objects\n",
    "    boxes, weights = hog.detectMultiScale(frame, winStride=(8,8) )\n",
    "\n",
    "    # convert to numpy array to draw the boxes\n",
    "    boxes = np.array([[x, y, x + w, y + h] for (x, y, w, h) in boxes])\n",
    "\n",
    "    for (xA, yA, xB, yB) in boxes:\n",
    "        \n",
    "        # display the detected boxes in the colour picture\n",
    "        cv.rectangle(frame, (xA, yA), (xB, yB), (0, 255, 0), 2)\n",
    "    \n",
    "    # display the resulting frame\n",
    "    cv.imshow('Frame',frame)\n",
    "    \n",
    "    # if escape key is pressed, exit\n",
    "    keyboard = cv.waitKey(30)\n",
    "    if keyboard == ESCAPE_KEY:\n",
    "        break\n",
    "        \n",
    "cv.destroyAllWindows()"
   ]
  },
  {
   "cell_type": "code",
   "execution_count": null,
   "id": "intellectual-tonight",
   "metadata": {},
   "outputs": [],
   "source": []
  }
 ],
 "metadata": {
  "kernelspec": {
   "display_name": "Python 3",
   "language": "python",
   "name": "python3"
  },
  "language_info": {
   "codemirror_mode": {
    "name": "ipython",
    "version": 3
   },
   "file_extension": ".py",
   "mimetype": "text/x-python",
   "name": "python",
   "nbconvert_exporter": "python",
   "pygments_lexer": "ipython3",
   "version": "3.8.5"
  }
 },
 "nbformat": 4,
 "nbformat_minor": 5
}
